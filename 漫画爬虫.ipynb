{
 "cells": [
  {
   "cell_type": "code",
   "execution_count": 19,
   "metadata": {},
   "outputs": [],
   "source": [
    "from bs4 import BeautifulSoup\n",
    "from urllib.request import urlopen\n",
    "import re\n",
    "import webbrowser\n",
    "import requests\n",
    "import random\n",
    "import string\n",
    "from selenium import webdriver\n",
    "import time\n",
    "import pandas as pd\n",
    "import os\n"
   ]
  },
  {
   "cell_type": "code",
   "execution_count": 18,
   "metadata": {},
   "outputs": [
    {
     "name": "stdin",
     "output_type": "stream",
     "text": [
      "输入网址 https://www.manhuagui.com/comic/33453/\n"
     ]
    },
    {
     "name": "stdout",
     "output_type": "stream",
     "text": [
      "[47, 59]\n"
     ]
    }
   ],
   "source": [
    "url = input(\"输入网址\")\n",
    "page_lenth = []\n",
    "basic_url = \"https://www.manhuagui.com/\"\n",
    "s = requests.session()\n",
    "page_con = s.get(url)\n",
    "soup = BeautifulSoup(page_con.content,\"html.parser\")\n",
    "manhua_list = soup.find(\"div\",{\"id\":\"chapter-list-0\"}).find_all(\"li\")\n",
    "# 获取每一话的长度\n",
    "for i in manhua_list:\n",
    "    page_lenth.append(int(i.find(\"i\").get_text()[:-1]))\n",
    "print(page_lenth)"
   ]
  },
  {
   "cell_type": "code",
   "execution_count": 14,
   "metadata": {
    "collapsed": true,
    "jupyter": {
     "outputs_hidden": true
    }
   },
   "outputs": [
    {
     "name": "stdout",
     "output_type": "stream",
     "text": [
      "<Response [200]>\n",
      "长度是 0\n",
      "<Response [200]>\n",
      "长度是 0\n"
     ]
    }
   ],
   "source": [
    "for k in manhua_list:\n",
    "    \n",
    "    every_page = s.get(basic_url+k.a[\"href\"])\n",
    "    print(every_page)\n",
    "    every_soup = BeautifulSoup(every_page.content,\"html.parser\")\n",
    "    \n",
    "    \n",
    "    \n",
    "    "
   ]
  },
  {
   "cell_type": "code",
   "execution_count": 45,
   "metadata": {},
   "outputs": [],
   "source": [
    "\n",
    "path =r\"D:\\data_study\\hello\"\n",
    "os.makedirs(path)"
   ]
  },
  {
   "cell_type": "code",
   "execution_count": null,
   "metadata": {},
   "outputs": [],
   "source": []
  },
  {
   "cell_type": "code",
   "execution_count": null,
   "metadata": {},
   "outputs": [],
   "source": []
  }
 ],
 "metadata": {
  "kernelspec": {
   "display_name": "Python 3",
   "language": "python",
   "name": "python3"
  },
  "language_info": {
   "codemirror_mode": {
    "name": "ipython",
    "version": 3
   },
   "file_extension": ".py",
   "mimetype": "text/x-python",
   "name": "python",
   "nbconvert_exporter": "python",
   "pygments_lexer": "ipython3",
   "version": "3.7.4"
  }
 },
 "nbformat": 4,
 "nbformat_minor": 4
}
